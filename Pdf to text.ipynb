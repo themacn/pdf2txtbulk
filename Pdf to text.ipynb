{
 "cells": [
  {
   "cell_type": "code",
   "execution_count": null,
   "id": "4e4f2b29",
   "metadata": {},
   "outputs": [],
   "source": [
    "pip install pytesseract Pillow pdf2image"
   ]
  },
  {
   "cell_type": "code",
   "execution_count": 1,
   "id": "003b798f",
   "metadata": {},
   "outputs": [],
   "source": [
    "import os\n",
    "import pytesseract\n",
    "from PIL import Image\n",
    "from pdf2image import convert_from_path\n",
    "\n",
    "# Set the path to the Tesseract OCR executable\n",
    "pytesseract.pytesseract.tesseract_cmd = r'C:\\Program Files\\Tesseract-OCR\\tesseract.exe'\n",
    "\n",
    "# Set the path to the input folder containing the PDF files\n",
    "input_folder = r'C:\\Users\\frank\\pdfs'\n",
    "\n",
    "# Set the path to the output folder where the text files will be saved\n",
    "output_folder = r'C:\\Users\\frank\\texts'\n",
    "os.makedirs(output_folder, exist_ok=True)\n",
    "\n",
    "# Iterate over each PDF file in the input folder\n",
    "for pdf_filename in os.listdir(input_folder):\n",
    "    # Skip non-PDF files\n",
    "    if not pdf_filename.endswith('.pdf'):\n",
    "        continue\n",
    "\n",
    "    # Convert the PDF file to a list of images\n",
    "    images = convert_from_path(os.path.join(input_folder, pdf_filename))\n",
    "\n",
    "    # Extract text from each image using OCR\n",
    "    text = ''\n",
    "    for image in images:\n",
    "        text += pytesseract.image_to_string(image)\n",
    "\n",
    "    # Save the extracted text to a file in the output folder\n",
    "    text_filename = os.path.splitext(pdf_filename)[0] + '.txt'\n",
    "    with open(os.path.join(output_folder, text_filename), 'w') as f:\n",
    "        f.write(text)\n"
   ]
  },
  {
   "cell_type": "code",
   "execution_count": null,
   "id": "3e615c07",
   "metadata": {},
   "outputs": [],
   "source": [
    "pytesseract.pytesseract.tesseract_cmd"
   ]
  },
  {
   "cell_type": "code",
   "execution_count": null,
   "id": "96e1fc8c",
   "metadata": {},
   "outputs": [],
   "source": []
  }
 ],
 "metadata": {
  "kernelspec": {
   "display_name": "Python 3",
   "language": "python",
   "name": "python3"
  },
  "language_info": {
   "codemirror_mode": {
    "name": "ipython",
    "version": 3
   },
   "file_extension": ".py",
   "mimetype": "text/x-python",
   "name": "python",
   "nbconvert_exporter": "python",
   "pygments_lexer": "ipython3",
   "version": "3.8.8"
  }
 },
 "nbformat": 4,
 "nbformat_minor": 5
}
